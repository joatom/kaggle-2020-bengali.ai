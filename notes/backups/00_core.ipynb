{
 "cells": [
  {
   "cell_type": "code",
   "execution_count": 1,
   "metadata": {},
   "outputs": [],
   "source": [
    "# default_exp core"
   ]
  },
  {
   "cell_type": "markdown",
   "metadata": {},
   "source": [
    "# bengaliai-cv19\n",
    "\n",
    "> API details."
   ]
  },
  {
   "cell_type": "code",
   "execution_count": 1,
   "metadata": {},
   "outputs": [],
   "source": [
    "#hide\n",
    "from nbdev.showdoc import *\n",
    "import time\n",
    "from fastai.vision import *\n",
    "import pandas as pd\n",
    "from tqdm import tqdm\n",
    "import matplotlib.pyplot as plt\n",
    "import numpy as np\n",
    "import gc\n",
    "\n",
    "import cv2"
   ]
  },
  {
   "cell_type": "code",
   "execution_count": 2,
   "metadata": {},
   "outputs": [],
   "source": [
    "# export\n",
    "\n",
    "#https://www.kaggle.com/maxlenormand/cropping-to-character-resizing-images\n",
    "def crop_resize_scaled(df, resize_size = 128):\n",
    "    HEIGHT = 137\n",
    "    WIDTH = 236\n",
    "    CROP_SIZE = resize_size\n",
    "    original_img_size = HEIGHT * WIDTH\n",
    "    cropped_img_size = CROP_SIZE * CROP_SIZE\n",
    "    \n",
    "    print(f\"Original shape of images: {original_img_size}\\nCropped & resized shape of images: {cropped_img_size}\")\n",
    "    print(f\"Reduction fatio: {np.round(original_img_size/cropped_img_size, 3)}\")\n",
    "    print(df.shape)\n",
    "    resized_df = df.iloc[:, 1:].values.reshape(-1, HEIGHT, WIDTH)\n",
    "    \n",
    "    cropped_imgs = {}\n",
    "    for img_id in tqdm(range(df.shape[0])):\n",
    "        img = resized_df[img_id]\n",
    "        _, thresh = cv2.threshold(img, 30, 255, cv2.THRESH_BINARY_INV + cv2.THRESH_OTSU)\n",
    "        contours, _ = cv2.findContours(thresh,cv2.RETR_LIST,cv2.CHAIN_APPROX_SIMPLE)[-2:]\n",
    "        \n",
    "        idx = 0 \n",
    "        ls_xmin = []\n",
    "        ls_ymin = []\n",
    "        ls_xmax = []\n",
    "        ls_ymax = []\n",
    "        for cnt in contours:\n",
    "            idx += 1\n",
    "            x,y,w,h = cv2.boundingRect(cnt)\n",
    "            ls_xmin.append(x)\n",
    "            ls_ymin.append(y)\n",
    "            ls_xmax.append(x + w)\n",
    "            ls_ymax.append(y + h)\n",
    "        xmin = min(ls_xmin)\n",
    "        ymin = min(ls_ymin)\n",
    "        xmax = max(ls_xmax)\n",
    "        ymax = max(ls_ymax)\n",
    "\n",
    "        roi = img[ymin:ymax,xmin:xmax]\n",
    "        resized_roi = cv2.resize(roi, (resize_size, resize_size))\n",
    "        cropped_imgs[df.image_id[img_id]] = resized_roi.reshape(-1)\n",
    "        \n",
    "    resized = pd.DataFrame(cropped_imgs).T.reset_index()\n",
    "    resized.columns = resized.columns.astype(str)\n",
    "    resized.rename(columns={'index':'image_id'},inplace=True)\n",
    "    return resized #out_df"
   ]
  },
  {
   "cell_type": "code",
   "execution_count": 5,
   "metadata": {},
   "outputs": [],
   "source": [
    "# export\n",
    "\n",
    "# https://www.kaggle.com/iafoss/image-preprocessing-128x128\n",
    "def bbox(img):\n",
    "    rows = np.any(img, axis=1)\n",
    "    cols = np.any(img, axis=0)\n",
    "    rmin, rmax = np.where(rows)[0][[0, -1]]\n",
    "    cmin, cmax = np.where(cols)[0][[0, -1]]\n",
    "    return rmin, rmax, cmin, cmax\n",
    "\n",
    "def crop_resize_img(img0, size=128, pad=16):\n",
    "    HEIGHT = 137\n",
    "    WIDTH = 236\n",
    "    SIZE = size\n",
    "    #crop a box around pixels large than the threshold \n",
    "    #some images contain line at the sides\n",
    "    ymin,ymax,xmin,xmax = bbox(img0[5:-5,5:-5] > 80)\n",
    "    #cropping may cut too much, so we need to add it back\n",
    "    xmin = xmin - 13 if (xmin > 13) else 0\n",
    "    ymin = ymin - 10 if (ymin > 10) else 0\n",
    "    xmax = xmax + 13 if (xmax < WIDTH - 13) else WIDTH\n",
    "    ymax = ymax + 10 if (ymax < HEIGHT - 10) else HEIGHT\n",
    "    img = img0[ymin:ymax,xmin:xmax]\n",
    "    #remove lo intensity pixels as noise\n",
    "    img[img < 28] = 0\n",
    "    lx, ly = xmax-xmin,ymax-ymin\n",
    "    l = max(lx,ly) + pad\n",
    "    #make sure that the aspect ratio is kept in rescaling\n",
    "    img = np.pad(img, [((l-ly)//2,), ((l-lx)//2,)], mode='constant')\n",
    "    return cv2.resize(img,(size,size))\n",
    "\n",
    "\n",
    "# https://www.kaggle.com/maxlenormand/cropping-to-character-resizing-images\n",
    "def crop_resize(df, resize_size = 128):\n",
    "    HEIGHT = 137\n",
    "    WIDTH = 236\n",
    "    SIZE = resize_size\n",
    "    \n",
    "    resized_df = 255-df.iloc[:, 1:].values.reshape(-1, HEIGHT, WIDTH).astype(np.uint8)\n",
    "    cropped_imgs = {}\n",
    "    for img_id in tqdm(range(df.shape[0])):\n",
    "        img = resized_df[img_id]\n",
    "        \n",
    "        resized_roi = crop_resize_img(img)\n",
    "        cropped_imgs[df.image_id[img_id]] = resized_roi.reshape(-1)\n",
    "        \n",
    "    resized = pd.DataFrame(cropped_imgs).T.reset_index()\n",
    "    resized.columns = resized.columns.astype(str)\n",
    "    resized.rename(columns={'index':'image_id'},inplace=True)\n",
    "    return resized #out_df\n",
    "    \n",
    "    \n",
    "def resize_only(df, resize_size = 128):\n",
    "    HEIGHT = 137\n",
    "    WIDTH = 236\n",
    "    SIZE = resize_size\n",
    "    \n",
    "    resized_df = 255-df.iloc[:, 1:].values.reshape(-1, HEIGHT, WIDTH).astype(np.uint8)\n",
    "    cropped_imgs = {}\n",
    "    for img_id in tqdm(range(df.shape[0])):\n",
    "        img = resized_df[img_id]\n",
    "        \n",
    "        resized_roi = cv2.resize(img, (168,96))\n",
    "        cropped_imgs[df.image_id[img_id]] = resized_roi.reshape(-1)\n",
    "        \n",
    "    resized = pd.DataFrame(cropped_imgs).T.reset_index()\n",
    "    resized.columns = resized.columns.astype(str)\n",
    "    resized.rename(columns={'index':'image_id'},inplace=True)\n",
    "    return resized #out_df"
   ]
  },
  {
   "cell_type": "code",
   "execution_count": 6,
   "metadata": {},
   "outputs": [],
   "source": [
    "# export\n",
    "\n",
    "def imagePreprocessing(crop_func, file_in, file_out):\n",
    "    df = pd.read_parquet(file_in)\n",
    "    df.reset_index(inplace=True,drop = True)#\n",
    "    print(df.shape)\n",
    "    cropped_df = crop_func(df, resize_size = 128)\n",
    "    cropped_df.to_feather(file_out)\n",
    "    del cropped_df\n",
    "    gc.collect()\n",
    "    "
   ]
  },
  {
   "cell_type": "code",
   "execution_count": 8,
   "metadata": {},
   "outputs": [
    {
     "name": "stdout",
     "output_type": "stream",
     "text": [
      "/home/kaggle/bengaliai-cv19/input/test_image_data_0.parquet /home/kaggle/bengaliai-cv19/input/test_image_data_crop_scaled_0.feather\n"
     ]
    },
    {
     "name": "stderr",
     "output_type": "stream",
     "text": [
      "100%|██████████| 3/3 [00:00<00:00, 140.84it/s]"
     ]
    },
    {
     "name": "stdout",
     "output_type": "stream",
     "text": [
      "(3, 32333)\n",
      "Original shape of images: 32332\n",
      "Cropped & resized shape of images: 16384\n",
      "Reduction fatio: 1.973\n",
      "(3, 32333)\n"
     ]
    },
    {
     "name": "stderr",
     "output_type": "stream",
     "text": [
      "\n"
     ]
    },
    {
     "name": "stdout",
     "output_type": "stream",
     "text": [
      "0 Done\n",
      "/home/kaggle/bengaliai-cv19/input/test_image_data_1.parquet /home/kaggle/bengaliai-cv19/input/test_image_data_crop_scaled_1.feather\n"
     ]
    },
    {
     "name": "stderr",
     "output_type": "stream",
     "text": [
      "100%|██████████| 3/3 [00:00<00:00, 368.64it/s]"
     ]
    },
    {
     "name": "stdout",
     "output_type": "stream",
     "text": [
      "(3, 32333)\n",
      "Original shape of images: 32332\n",
      "Cropped & resized shape of images: 16384\n",
      "Reduction fatio: 1.973\n",
      "(3, 32333)\n"
     ]
    },
    {
     "name": "stderr",
     "output_type": "stream",
     "text": [
      "\n"
     ]
    },
    {
     "name": "stdout",
     "output_type": "stream",
     "text": [
      "1 Done\n",
      "/home/kaggle/bengaliai-cv19/input/test_image_data_2.parquet /home/kaggle/bengaliai-cv19/input/test_image_data_crop_scaled_2.feather\n"
     ]
    },
    {
     "name": "stderr",
     "output_type": "stream",
     "text": [
      "100%|██████████| 3/3 [00:00<00:00, 267.40it/s]"
     ]
    },
    {
     "name": "stdout",
     "output_type": "stream",
     "text": [
      "(3, 32333)\n",
      "Original shape of images: 32332\n",
      "Cropped & resized shape of images: 16384\n",
      "Reduction fatio: 1.973\n",
      "(3, 32333)\n"
     ]
    },
    {
     "name": "stderr",
     "output_type": "stream",
     "text": [
      "\n"
     ]
    },
    {
     "name": "stdout",
     "output_type": "stream",
     "text": [
      "2 Done\n",
      "/home/kaggle/bengaliai-cv19/input/test_image_data_3.parquet /home/kaggle/bengaliai-cv19/input/test_image_data_crop_scaled_3.feather\n"
     ]
    },
    {
     "name": "stderr",
     "output_type": "stream",
     "text": [
      "100%|██████████| 3/3 [00:00<00:00, 367.02it/s]"
     ]
    },
    {
     "name": "stdout",
     "output_type": "stream",
     "text": [
      "(3, 32333)\n",
      "Original shape of images: 32332\n",
      "Cropped & resized shape of images: 16384\n",
      "Reduction fatio: 1.973\n",
      "(3, 32333)\n"
     ]
    },
    {
     "name": "stderr",
     "output_type": "stream",
     "text": [
      "\n"
     ]
    },
    {
     "name": "stdout",
     "output_type": "stream",
     "text": [
      "3 Done\n",
      "CPU times: user 8min 38s, sys: 3.18 s, total: 8min 41s\n",
      "Wall time: 2min 18s\n"
     ]
    }
   ],
   "source": [
    "%%time\n",
    "source = Path('/home/kaggle/bengaliai-cv19/input')\n",
    "\n",
    "for i in range(4):\n",
    "    file_in = source/('test_image_data_' + str(i)+'.parquet')\n",
    "    file_out = source/('test_image_data_crop_scaled_' + str(i)+'.feather')\n",
    "    print(file_in, file_out)\n",
    "    imagePreprocessing(crop_resize_scaled,file_in, file_out)\n",
    "    print(str(i) + ' Done')"
   ]
  },
  {
   "cell_type": "code",
   "execution_count": 8,
   "metadata": {},
   "outputs": [
    {
     "name": "stdout",
     "output_type": "stream",
     "text": [
      "/home/kaggle/bengaliai-cv19/input/train_image_data_0.parquet /home/kaggle/bengaliai-cv19/input/train_image_data_crop_0.feather\n",
      "(50210, 32333)\n"
     ]
    },
    {
     "name": "stderr",
     "output_type": "stream",
     "text": [
      "100%|██████████| 50210/50210 [00:17<00:00, 2876.40it/s]\n"
     ]
    },
    {
     "name": "stdout",
     "output_type": "stream",
     "text": [
      "0 Done\n",
      "/home/kaggle/bengaliai-cv19/input/train_image_data_1.parquet /home/kaggle/bengaliai-cv19/input/train_image_data_crop_1.feather\n",
      "(50210, 32333)\n"
     ]
    },
    {
     "name": "stderr",
     "output_type": "stream",
     "text": [
      "100%|██████████| 50210/50210 [00:16<00:00, 3031.24it/s]\n"
     ]
    },
    {
     "name": "stdout",
     "output_type": "stream",
     "text": [
      "1 Done\n",
      "/home/kaggle/bengaliai-cv19/input/train_image_data_2.parquet /home/kaggle/bengaliai-cv19/input/train_image_data_crop_2.feather\n",
      "(50210, 32333)\n"
     ]
    },
    {
     "name": "stderr",
     "output_type": "stream",
     "text": [
      "100%|██████████| 50210/50210 [00:18<00:00, 2669.35it/s]\n"
     ]
    },
    {
     "name": "stdout",
     "output_type": "stream",
     "text": [
      "2 Done\n",
      "/home/kaggle/bengaliai-cv19/input/train_image_data_3.parquet /home/kaggle/bengaliai-cv19/input/train_image_data_crop_3.feather\n",
      "(50210, 32333)\n"
     ]
    },
    {
     "name": "stderr",
     "output_type": "stream",
     "text": [
      "100%|██████████| 50210/50210 [00:18<00:00, 2643.64it/s]\n"
     ]
    },
    {
     "name": "stdout",
     "output_type": "stream",
     "text": [
      "3 Done\n",
      "CPU times: user 13min 36s, sys: 21.1 s, total: 13min 57s\n",
      "Wall time: 6min 52s\n"
     ]
    }
   ],
   "source": [
    "%%time\n",
    "source = Path('/home/kaggle/bengaliai-cv19/input')\n",
    "\n",
    "for i in range(4):\n",
    "    file_in = source/('train_image_data_' + str(i)+'.parquet')\n",
    "    file_out = source/('train_image_data_crop_' + str(i)+'.feather')\n",
    "    print(file_in, file_out)\n",
    "    imagePreprocessing(crop_resize,file_in, file_out)\n",
    "    print(str(i) + ' Done')\n",
    "    "
   ]
  },
  {
   "cell_type": "code",
   "execution_count": 7,
   "metadata": {},
   "outputs": [
    {
     "name": "stdout",
     "output_type": "stream",
     "text": [
      "/home/kaggle/bengaliai-cv19/input/train_image_data_0.parquet /home/kaggle/bengaliai-cv19/input/train_image_data_resize_only_0.feather\n",
      "(50210, 32333)\n"
     ]
    },
    {
     "name": "stderr",
     "output_type": "stream",
     "text": [
      "100%|██████████| 50210/50210 [00:08<00:00, 6051.21it/s]\n"
     ]
    },
    {
     "name": "stdout",
     "output_type": "stream",
     "text": [
      "0 Done\n",
      "/home/kaggle/bengaliai-cv19/input/train_image_data_1.parquet /home/kaggle/bengaliai-cv19/input/train_image_data_resize_only_1.feather\n",
      "(50210, 32333)\n"
     ]
    },
    {
     "name": "stderr",
     "output_type": "stream",
     "text": [
      "100%|██████████| 50210/50210 [00:08<00:00, 5899.09it/s]\n"
     ]
    },
    {
     "name": "stdout",
     "output_type": "stream",
     "text": [
      "1 Done\n",
      "/home/kaggle/bengaliai-cv19/input/train_image_data_2.parquet /home/kaggle/bengaliai-cv19/input/train_image_data_resize_only_2.feather\n",
      "(50210, 32333)\n"
     ]
    },
    {
     "name": "stderr",
     "output_type": "stream",
     "text": [
      "100%|██████████| 50210/50210 [00:08<00:00, 5738.29it/s]\n"
     ]
    },
    {
     "name": "stdout",
     "output_type": "stream",
     "text": [
      "2 Done\n",
      "/home/kaggle/bengaliai-cv19/input/train_image_data_3.parquet /home/kaggle/bengaliai-cv19/input/train_image_data_resize_only_3.feather\n",
      "(50210, 32333)\n"
     ]
    },
    {
     "name": "stderr",
     "output_type": "stream",
     "text": [
      "100%|██████████| 50210/50210 [00:09<00:00, 5408.18it/s]\n"
     ]
    },
    {
     "name": "stdout",
     "output_type": "stream",
     "text": [
      "3 Done\n",
      "CPU times: user 8min 44s, sys: 23.8 s, total: 9min 8s\n",
      "Wall time: 3min 25s\n"
     ]
    }
   ],
   "source": [
    "%%time\n",
    "source = Path('/home/kaggle/bengaliai-cv19/input')\n",
    "\n",
    "for i in range(4):\n",
    "    file_in = source/('train_image_data_' + str(i)+'.parquet')\n",
    "    file_out = source/('train_image_data_resize_only_' + str(i)+'.feather')\n",
    "    print(file_in, file_out)\n",
    "    imagePreprocessing(resize_only,file_in, file_out)\n",
    "    print(str(i) + ' Done')"
   ]
  },
  {
   "cell_type": "code",
   "execution_count": null,
   "metadata": {},
   "outputs": [],
   "source": []
  },
  {
   "cell_type": "code",
   "execution_count": 4,
   "metadata": {},
   "outputs": [],
   "source": [
    "def read_all(file='train_image_data_crop_scaled_'):\n",
    "    df = (pd.read_feather(source/(file+'0.feather'))\n",
    "          .append(pd.read_feather(source/(file+'1.feather')))\n",
    "          .append(pd.read_feather(source/(file+'2.feather')))\n",
    "          .append(pd.read_feather(source/(file+'3.feather')))\n",
    "         )\n",
    "    df.reset_index(inplace=True,drop = True)\n",
    "    return df\n",
    "   \n",
    "    \n",
    "def read_one(file='train_image_data_crop_scaled_0.feather'):\n",
    "    df = pd.read_feather(source/(file))\n",
    "    df.reset_index(inplace=True,drop = True)\n",
    "    return df\n",
    "    \n",
    "        "
   ]
  },
  {
   "cell_type": "code",
   "execution_count": null,
   "metadata": {},
   "outputs": [],
   "source": []
  },
  {
   "cell_type": "code",
   "execution_count": null,
   "metadata": {},
   "outputs": [],
   "source": []
  },
  {
   "cell_type": "code",
   "execution_count": null,
   "metadata": {},
   "outputs": [],
   "source": []
  },
  {
   "cell_type": "code",
   "execution_count": null,
   "metadata": {},
   "outputs": [],
   "source": []
  },
  {
   "cell_type": "code",
   "execution_count": 2,
   "metadata": {},
   "outputs": [
    {
     "name": "stdout",
     "output_type": "stream",
     "text": [
      "Converted 00_core.ipynb.\n",
      "Converted index.ipynb.\n"
     ]
    }
   ],
   "source": [
    "from nbdev.export import *\n",
    "notebook2script()"
   ]
  },
  {
   "cell_type": "code",
   "execution_count": 2,
   "metadata": {},
   "outputs": [
    {
     "name": "stdout",
     "output_type": "stream",
     "text": [
      "(50210, 32333)\n"
     ]
    }
   ],
   "source": [
    "source = Path('/home/kaggle/bengaliai-cv19/input')\n",
    "\n",
    "df = pd.read_parquet(source/('train_image_data_0.parquet'))\n",
    "df.reset_index(inplace=True,drop = True)#\n",
    "print(df.shape)\n"
   ]
  },
  {
   "cell_type": "code",
   "execution_count": 3,
   "metadata": {},
   "outputs": [
    {
     "data": {
      "text/html": [
       "<div>\n",
       "<style scoped>\n",
       "    .dataframe tbody tr th:only-of-type {\n",
       "        vertical-align: middle;\n",
       "    }\n",
       "\n",
       "    .dataframe tbody tr th {\n",
       "        vertical-align: top;\n",
       "    }\n",
       "\n",
       "    .dataframe thead th {\n",
       "        text-align: right;\n",
       "    }\n",
       "</style>\n",
       "<table border=\"1\" class=\"dataframe\">\n",
       "  <thead>\n",
       "    <tr style=\"text-align: right;\">\n",
       "      <th></th>\n",
       "      <th>image_id</th>\n",
       "      <th>0</th>\n",
       "      <th>1</th>\n",
       "      <th>2</th>\n",
       "      <th>3</th>\n",
       "      <th>4</th>\n",
       "      <th>5</th>\n",
       "      <th>6</th>\n",
       "      <th>7</th>\n",
       "      <th>8</th>\n",
       "      <th>...</th>\n",
       "      <th>32322</th>\n",
       "      <th>32323</th>\n",
       "      <th>32324</th>\n",
       "      <th>32325</th>\n",
       "      <th>32326</th>\n",
       "      <th>32327</th>\n",
       "      <th>32328</th>\n",
       "      <th>32329</th>\n",
       "      <th>32330</th>\n",
       "      <th>32331</th>\n",
       "    </tr>\n",
       "  </thead>\n",
       "  <tbody>\n",
       "    <tr>\n",
       "      <th>0</th>\n",
       "      <td>Train_0</td>\n",
       "      <td>254</td>\n",
       "      <td>253</td>\n",
       "      <td>252</td>\n",
       "      <td>253</td>\n",
       "      <td>251</td>\n",
       "      <td>252</td>\n",
       "      <td>253</td>\n",
       "      <td>251</td>\n",
       "      <td>251</td>\n",
       "      <td>...</td>\n",
       "      <td>253</td>\n",
       "      <td>253</td>\n",
       "      <td>253</td>\n",
       "      <td>253</td>\n",
       "      <td>253</td>\n",
       "      <td>253</td>\n",
       "      <td>253</td>\n",
       "      <td>253</td>\n",
       "      <td>253</td>\n",
       "      <td>251</td>\n",
       "    </tr>\n",
       "    <tr>\n",
       "      <th>1</th>\n",
       "      <td>Train_1</td>\n",
       "      <td>251</td>\n",
       "      <td>244</td>\n",
       "      <td>238</td>\n",
       "      <td>245</td>\n",
       "      <td>248</td>\n",
       "      <td>246</td>\n",
       "      <td>246</td>\n",
       "      <td>247</td>\n",
       "      <td>251</td>\n",
       "      <td>...</td>\n",
       "      <td>255</td>\n",
       "      <td>255</td>\n",
       "      <td>255</td>\n",
       "      <td>255</td>\n",
       "      <td>255</td>\n",
       "      <td>255</td>\n",
       "      <td>255</td>\n",
       "      <td>255</td>\n",
       "      <td>255</td>\n",
       "      <td>254</td>\n",
       "    </tr>\n",
       "    <tr>\n",
       "      <th>2</th>\n",
       "      <td>Train_2</td>\n",
       "      <td>251</td>\n",
       "      <td>250</td>\n",
       "      <td>249</td>\n",
       "      <td>250</td>\n",
       "      <td>249</td>\n",
       "      <td>245</td>\n",
       "      <td>247</td>\n",
       "      <td>252</td>\n",
       "      <td>252</td>\n",
       "      <td>...</td>\n",
       "      <td>254</td>\n",
       "      <td>253</td>\n",
       "      <td>252</td>\n",
       "      <td>252</td>\n",
       "      <td>253</td>\n",
       "      <td>253</td>\n",
       "      <td>253</td>\n",
       "      <td>253</td>\n",
       "      <td>251</td>\n",
       "      <td>249</td>\n",
       "    </tr>\n",
       "    <tr>\n",
       "      <th>3</th>\n",
       "      <td>Train_3</td>\n",
       "      <td>247</td>\n",
       "      <td>247</td>\n",
       "      <td>249</td>\n",
       "      <td>253</td>\n",
       "      <td>253</td>\n",
       "      <td>252</td>\n",
       "      <td>251</td>\n",
       "      <td>251</td>\n",
       "      <td>250</td>\n",
       "      <td>...</td>\n",
       "      <td>254</td>\n",
       "      <td>254</td>\n",
       "      <td>254</td>\n",
       "      <td>254</td>\n",
       "      <td>254</td>\n",
       "      <td>253</td>\n",
       "      <td>253</td>\n",
       "      <td>252</td>\n",
       "      <td>251</td>\n",
       "      <td>252</td>\n",
       "    </tr>\n",
       "    <tr>\n",
       "      <th>4</th>\n",
       "      <td>Train_4</td>\n",
       "      <td>249</td>\n",
       "      <td>248</td>\n",
       "      <td>246</td>\n",
       "      <td>246</td>\n",
       "      <td>248</td>\n",
       "      <td>244</td>\n",
       "      <td>242</td>\n",
       "      <td>242</td>\n",
       "      <td>229</td>\n",
       "      <td>...</td>\n",
       "      <td>255</td>\n",
       "      <td>255</td>\n",
       "      <td>255</td>\n",
       "      <td>255</td>\n",
       "      <td>255</td>\n",
       "      <td>255</td>\n",
       "      <td>255</td>\n",
       "      <td>255</td>\n",
       "      <td>255</td>\n",
       "      <td>255</td>\n",
       "    </tr>\n",
       "  </tbody>\n",
       "</table>\n",
       "<p>5 rows × 32333 columns</p>\n",
       "</div>"
      ],
      "text/plain": [
       "  image_id    0    1    2    3    4    5    6    7    8  ...  32322  32323  \\\n",
       "0  Train_0  254  253  252  253  251  252  253  251  251  ...    253    253   \n",
       "1  Train_1  251  244  238  245  248  246  246  247  251  ...    255    255   \n",
       "2  Train_2  251  250  249  250  249  245  247  252  252  ...    254    253   \n",
       "3  Train_3  247  247  249  253  253  252  251  251  250  ...    254    254   \n",
       "4  Train_4  249  248  246  246  248  244  242  242  229  ...    255    255   \n",
       "\n",
       "   32324  32325  32326  32327  32328  32329  32330  32331  \n",
       "0    253    253    253    253    253    253    253    251  \n",
       "1    255    255    255    255    255    255    255    254  \n",
       "2    252    252    253    253    253    253    251    249  \n",
       "3    254    254    254    253    253    252    251    252  \n",
       "4    255    255    255    255    255    255    255    255  \n",
       "\n",
       "[5 rows x 32333 columns]"
      ]
     },
     "execution_count": 3,
     "metadata": {},
     "output_type": "execute_result"
    }
   ],
   "source": [
    "df.head()"
   ]
  },
  {
   "cell_type": "code",
   "execution_count": 4,
   "metadata": {},
   "outputs": [],
   "source": [
    "\n",
    "\n",
    "#df.drop('image_id',axis=1).values.reshape(-1) # .shape"
   ]
  },
  {
   "cell_type": "code",
   "execution_count": 5,
   "metadata": {},
   "outputs": [],
   "source": [
    "import collections\n",
    "\n",
    "c = collections.Counter()"
   ]
  },
  {
   "cell_type": "code",
   "execution_count": 6,
   "metadata": {},
   "outputs": [],
   "source": [
    "c.update(df.drop('image_id',axis=1).values.reshape(-1))"
   ]
  },
  {
   "cell_type": "code",
   "execution_count": 7,
   "metadata": {},
   "outputs": [
    {
     "data": {
      "text/plain": [
       "[(0, 32291),\n",
       " (1, 9891),\n",
       " (2, 13033),\n",
       " (3, 17744),\n",
       " (4, 24583),\n",
       " (5, 32881),\n",
       " (6, 42783),\n",
       " (7, 54429),\n",
       " (8, 67320),\n",
       " (9, 80509),\n",
       " (10, 95354),\n",
       " (11, 109733),\n",
       " (12, 126520),\n",
       " (13, 142842),\n",
       " (14, 160140),\n",
       " (15, 178046),\n",
       " (16, 197042),\n",
       " (17, 217319),\n",
       " (18, 238078),\n",
       " (19, 258818),\n",
       " (20, 281703),\n",
       " (21, 306188),\n",
       " (22, 329153),\n",
       " (23, 355737),\n",
       " (24, 382519),\n",
       " (25, 410848),\n",
       " (26, 438877),\n",
       " (27, 469649),\n",
       " (28, 500153),\n",
       " (29, 529741),\n",
       " (30, 560573),\n",
       " (31, 592298),\n",
       " (32, 623646),\n",
       " (33, 656050),\n",
       " (34, 687985),\n",
       " (35, 719515),\n",
       " (36, 749851),\n",
       " (37, 782786),\n",
       " (38, 812830),\n",
       " (39, 842809),\n",
       " (40, 870708),\n",
       " (41, 897069),\n",
       " (42, 924795),\n",
       " (43, 947458),\n",
       " (44, 973543),\n",
       " (45, 996994),\n",
       " (46, 1019364),\n",
       " (47, 1041251),\n",
       " (48, 1061368),\n",
       " (49, 1077433),\n",
       " (50, 1094505),\n",
       " (51, 1110020),\n",
       " (52, 1123265),\n",
       " (53, 1134926),\n",
       " (54, 1144854),\n",
       " (55, 1147838),\n",
       " (56, 1154657),\n",
       " (57, 1151421),\n",
       " (58, 1151771),\n",
       " (59, 1145502),\n",
       " (60, 1137739),\n",
       " (61, 1128428),\n",
       " (62, 1114082),\n",
       " (63, 1100011),\n",
       " (64, 1083029),\n",
       " (65, 1065286),\n",
       " (66, 1045065),\n",
       " (67, 1024040),\n",
       " (68, 1002391),\n",
       " (69, 981538),\n",
       " (70, 960467),\n",
       " (71, 937246),\n",
       " (72, 914428),\n",
       " (73, 893216),\n",
       " (74, 872612),\n",
       " (75, 850723),\n",
       " (76, 831755),\n",
       " (77, 814348),\n",
       " (78, 792684),\n",
       " (79, 776144),\n",
       " (80, 759712),\n",
       " (81, 741062),\n",
       " (82, 727273),\n",
       " (83, 710668),\n",
       " (84, 696667),\n",
       " (85, 684311),\n",
       " (86, 670985),\n",
       " (87, 659164),\n",
       " (88, 646204),\n",
       " (89, 637133),\n",
       " (90, 625108),\n",
       " (91, 615184),\n",
       " (92, 605705),\n",
       " (93, 596727),\n",
       " (94, 588393),\n",
       " (95, 578114),\n",
       " (96, 570098),\n",
       " (97, 564712),\n",
       " (98, 555415),\n",
       " (99, 549258),\n",
       " (100, 543622),\n",
       " (101, 536279),\n",
       " (102, 530382),\n",
       " (103, 523954),\n",
       " (104, 517685),\n",
       " (105, 513662),\n",
       " (106, 508383),\n",
       " (107, 503068),\n",
       " (108, 498454),\n",
       " (109, 494285),\n",
       " (110, 487755),\n",
       " (111, 485931),\n",
       " (112, 479133),\n",
       " (113, 476483),\n",
       " (114, 472544),\n",
       " (115, 468615),\n",
       " (116, 466177),\n",
       " (117, 461631),\n",
       " (118, 458829),\n",
       " (119, 455800),\n",
       " (120, 452798),\n",
       " (121, 451049),\n",
       " (122, 447290),\n",
       " (123, 444608),\n",
       " (124, 441284),\n",
       " (125, 438703),\n",
       " (126, 439287),\n",
       " (127, 435287),\n",
       " (128, 432701),\n",
       " (129, 430672),\n",
       " (130, 429644),\n",
       " (131, 426816),\n",
       " (132, 426247),\n",
       " (133, 421813),\n",
       " (134, 421208),\n",
       " (135, 420022),\n",
       " (136, 417982),\n",
       " (137, 416980),\n",
       " (138, 414515),\n",
       " (139, 413095),\n",
       " (140, 412677),\n",
       " (141, 410818),\n",
       " (142, 410871),\n",
       " (143, 410507),\n",
       " (144, 407817),\n",
       " (145, 406999),\n",
       " (146, 406618),\n",
       " (147, 405045),\n",
       " (148, 405494),\n",
       " (149, 403320),\n",
       " (150, 404304),\n",
       " (151, 404664),\n",
       " (152, 402145),\n",
       " (153, 402537),\n",
       " (154, 401807),\n",
       " (155, 402455),\n",
       " (156, 401531),\n",
       " (157, 401107),\n",
       " (158, 401952),\n",
       " (159, 401447),\n",
       " (160, 402620),\n",
       " (161, 401832),\n",
       " (162, 402930),\n",
       " (163, 403446),\n",
       " (164, 404277),\n",
       " (165, 404665),\n",
       " (166, 404750),\n",
       " (167, 405368),\n",
       " (168, 407465),\n",
       " (169, 409261),\n",
       " (170, 409114),\n",
       " (171, 410128),\n",
       " (172, 412037),\n",
       " (173, 412676),\n",
       " (174, 413920),\n",
       " (175, 416073),\n",
       " (176, 418129),\n",
       " (177, 419539),\n",
       " (178, 421503),\n",
       " (179, 424191),\n",
       " (180, 425523),\n",
       " (181, 429048),\n",
       " (182, 429658),\n",
       " (183, 433307),\n",
       " (184, 436175),\n",
       " (185, 438634),\n",
       " (186, 439187),\n",
       " (187, 444350),\n",
       " (188, 448713),\n",
       " (189, 451319),\n",
       " (190, 453863),\n",
       " (191, 459468),\n",
       " (192, 462796),\n",
       " (193, 466499),\n",
       " (194, 470820),\n",
       " (195, 475148),\n",
       " (196, 480769),\n",
       " (197, 484746),\n",
       " (198, 491137),\n",
       " (199, 494815),\n",
       " (200, 501735),\n",
       " (201, 507736),\n",
       " (202, 513694),\n",
       " (203, 521712),\n",
       " (204, 528080),\n",
       " (205, 534333),\n",
       " (206, 543691),\n",
       " (207, 550113),\n",
       " (208, 559918),\n",
       " (209, 567281),\n",
       " (210, 578254),\n",
       " (211, 586749),\n",
       " (212, 598799),\n",
       " (213, 609194),\n",
       " (214, 623461),\n",
       " (215, 636169),\n",
       " (216, 649931),\n",
       " (217, 662744),\n",
       " (218, 677891),\n",
       " (219, 695212),\n",
       " (220, 713531),\n",
       " (221, 731440),\n",
       " (222, 754455),\n",
       " (223, 773946),\n",
       " (224, 798735),\n",
       " (225, 824410),\n",
       " (226, 853445),\n",
       " (227, 884830),\n",
       " (228, 924921),\n",
       " (229, 966376),\n",
       " (230, 1017602),\n",
       " (231, 1078598),\n",
       " (232, 1151804),\n",
       " (233, 1246086),\n",
       " (234, 1366868),\n",
       " (235, 1526798),\n",
       " (236, 1732433),\n",
       " (237, 1988413),\n",
       " (238, 2315079),\n",
       " (239, 2732432),\n",
       " (240, 3280114),\n",
       " (241, 4049832),\n",
       " (242, 5154934),\n",
       " (243, 6824874),\n",
       " (244, 9414386),\n",
       " (245, 13200802),\n",
       " (246, 18787850),\n",
       " (247, 26620514),\n",
       " (248, 34052507),\n",
       " (249, 46394780),\n",
       " (250, 64821590),\n",
       " (251, 95368201),\n",
       " (252, 143575881),\n",
       " (253, 187871707),\n",
       " (254, 228187383),\n",
       " (255, 589418645)]"
      ]
     },
     "execution_count": 7,
     "metadata": {},
     "output_type": "execute_result"
    }
   ],
   "source": [
    "sorted(c.items())"
   ]
  },
  {
   "cell_type": "code",
   "execution_count": 104,
   "metadata": {},
   "outputs": [
    {
     "name": "stderr",
     "output_type": "stream",
     "text": [
      "100%|██████████| 1/1 [00:00<00:00, 953.68it/s]\n"
     ]
    }
   ],
   "source": [
    "HEIGHT = 137\n",
    "WIDTH = 236\n",
    "resize_size=128\n",
    "df=df.tail(10)\n",
    "\n",
    "resized_df = df.iloc[:, 1:].values.reshape(-1, HEIGHT, WIDTH)\n",
    "    \n",
    "cropped_imgs = {}\n",
    "for img_id in tqdm(range(df.shape[0])):\n",
    "    img = resized_df[img_id]\n",
    "    \n",
    "    _, thresh = cv2.threshold(img, 50, 75, cv2.THRESH_BINARY_INV + cv2.THRESH_TRIANGLE)#THRESH_OTSU)\n",
    "    contours, _ = cv2.findContours(thresh,cv2.RETR_LIST,cv2.CHAIN_APPROX_SIMPLE)[-2:] #RETR_LIST\n",
    "\n",
    "    idx = 0 \n",
    "    ls_xmin = []\n",
    "    ls_ymin = []\n",
    "    ls_xmax = []\n",
    "    ls_ymax = []\n",
    "    for cnt in contours:\n",
    "        idx += 1\n",
    "        x,y,w,h = cv2.boundingRect(cnt)\n",
    "        ls_xmin.append(x)\n",
    "        ls_ymin.append(y)\n",
    "        ls_xmax.append(x + w)\n",
    "        ls_ymax.append(y + h)\n",
    "    xmin = min(ls_xmin)\n",
    "    ymin = min(ls_ymin)\n",
    "    xmax = max(ls_xmax)\n",
    "    ymax = max(ls_ymax)\n",
    "\n",
    "    roi = img[ymin:ymax,xmin:xmax]\n",
    "    resized_roi = cv2.resize(roi, (resize_size, resize_size))\n",
    "    cropped_imgs[df.image_id[img_id]] = resized_roi.reshape(-1)"
   ]
  },
  {
   "cell_type": "code",
   "execution_count": 105,
   "metadata": {},
   "outputs": [
    {
     "data": {
      "text/plain": [
       "array([[250, 250, 252, 252, ..., 253, 253, 253, 251],\n",
       "       [252, 252, 253, 253, ..., 254, 254, 253, 252],\n",
       "       [254, 254, 254, 254, ..., 255, 254, 254, 253],\n",
       "       [255, 255, 255, 254, ..., 255, 255, 252, 252],\n",
       "       ...,\n",
       "       [255, 255, 255, 255, ..., 255, 255, 254, 253],\n",
       "       [255, 255, 255, 255, ..., 255, 255, 254, 253],\n",
       "       [255, 255, 255, 255, ..., 255, 255, 254, 254],\n",
       "       [255, 255, 255, 255, ..., 255, 255, 254, 254]], dtype=uint8)"
      ]
     },
     "execution_count": 105,
     "metadata": {},
     "output_type": "execute_result"
    }
   ],
   "source": [
    "cropped_imgs['Train_0'].reshape(128,128)"
   ]
  },
  {
   "cell_type": "code",
   "execution_count": 106,
   "metadata": {},
   "outputs": [],
   "source": [
    "%matplotlib inline \n"
   ]
  },
  {
   "cell_type": "code",
   "execution_count": 107,
   "metadata": {},
   "outputs": [
    {
     "data": {
      "text/plain": [
       "<matplotlib.image.AxesImage at 0x7f016042d240>"
      ]
     },
     "execution_count": 107,
     "metadata": {},
     "output_type": "execute_result"
    },
    {
     "data": {
      "image/png": "[encoded data removed]",
      "text/plain": [
       "<Figure size 432x288 with 1 Axes>"
      ]
     },
     "metadata": {
      "needs_background": "light"
     },
     "output_type": "display_data"
    }
   ],
   "source": [
    "plt.imshow(cropped_imgs['Train_0'].reshape(128,128))"
   ]
  },
  {
   "cell_type": "code",
   "execution_count": 108,
   "metadata": {},
   "outputs": [
    {
     "data": {
      "text/plain": [
       "<matplotlib.image.AxesImage at 0x7f016044b7b8>"
      ]
     },
     "execution_count": 108,
     "metadata": {},
     "output_type": "execute_result"
    },
    {
     "data": {
      "image/png": "[encoded data removed]",
      "text/plain": [
       "<Figure size 432x288 with 1 Axes>"
      ]
     },
     "metadata": {
      "needs_background": "light"
     },
     "output_type": "display_data"
    }
   ],
   "source": [
    "plt.imshow(cropped_imgs['Train_0'].reshape(128,128))"
   ]
  },
  {
   "cell_type": "code",
   "execution_count": null,
   "metadata": {},
   "outputs": [],
   "source": []
  }
 ],
 "metadata": {
  "kernelspec": {
   "display_name": "Python [conda env:fastai]",
   "language": "python",
   "name": "conda-env-fastai-py"
  },
  "language_info": {
   "codemirror_mode": {
    "name": "ipython",
    "version": 3
   },
   "file_extension": ".py",
   "mimetype": "text/x-python",
   "name": "python",
   "nbconvert_exporter": "python",
   "pygments_lexer": "ipython3",
   "version": "3.6.7"
  }
 },
 "nbformat": 4,
 "nbformat_minor": 4
}
